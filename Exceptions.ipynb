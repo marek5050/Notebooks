{
 "cells": [
  {
   "cell_type": "markdown",
   "metadata": {},
   "source": [
    "# Exceptions.py\n",
    "---\n"
   ]
  },
  {
   "cell_type": "code",
   "execution_count": 18,
   "metadata": {
    "collapsed": false
   },
   "outputs": [
    {
     "name": "stdout",
     "output_type": "stream",
     "text": [
      "Exceptions.py\n"
     ]
    }
   ],
   "source": [
    "#!/usr/bin/env python3\n",
    "\n",
    "# -------------\n",
    "# Exceptions.py\n",
    "# -------------\n",
    "\n",
    "# https://docs.python.org/3.2/library/exceptions.html\n",
    "\n",
    "def f (b) :\n",
    "    if b :\n",
    "        raise NameError(\"abc\")\n",
    "    return 0\n",
    "\n",
    "print(\"Exceptions.py\")"
   ]
  },
  {
   "cell_type": "markdown",
   "metadata": {},
   "source": [
    "##Basic exception\n",
    "\n",
    "The first case is just a basic exception, we don't even capture it. Yet in the second case we try to capture it and investigate the nature of e. "
   ]
  },
  {
   "cell_type": "code",
   "execution_count": 9,
   "metadata": {
    "collapsed": false
   },
   "outputs": [],
   "source": [
    "try :\n",
    "    assert f(False) == 0\n",
    "except NameError :\n",
    "    assert False"
   ]
  },
  {
   "cell_type": "code",
   "execution_count": 16,
   "metadata": {
    "collapsed": false
   },
   "outputs": [],
   "source": [
    "try :\n",
    "    assert f(True) == 1\n",
    "    assert False\n",
    "except NameError as e :\n",
    "    assert type(e)      is     NameError\n",
    "    assert type(e.args) is     tuple\n",
    "    assert len(e.args)  ==     1\n",
    "    assert e.args       is not (\"abc\",)\n",
    "    assert e.args       ==     (\"abc\",)\n",
    "else :\n",
    "    assert False"
   ]
  },
  {
   "cell_type": "markdown",
   "metadata": {},
   "source": [
    "All Exceptions are of type \"type\", and inherit from object. "
   ]
  },
  {
   "cell_type": "code",
   "execution_count": 17,
   "metadata": {
    "collapsed": true
   },
   "outputs": [],
   "source": [
    "assert type(NameError) is type\n",
    "assert type(type)      is type\n",
    "\n",
    "assert issubclass(NameError,     Exception)\n",
    "assert issubclass(Exception,     BaseException)\n",
    "assert issubclass(NameError,     BaseException)\n",
    "assert issubclass(BaseException, object)"
   ]
  },
  {
   "cell_type": "code",
   "execution_count": 7,
   "metadata": {
    "collapsed": false
   },
   "outputs": [
    {
     "name": "stdout",
     "output_type": "stream",
     "text": [
      "Done.\n"
     ]
    }
   ],
   "source": [
    "print(\"Done.\")"
   ]
  }
 ],
 "metadata": {
  "kernelspec": {
   "display_name": "Python 3",
   "language": "python",
   "name": "python3"
  },
  "language_info": {
   "codemirror_mode": {
    "name": "ipython",
    "version": 3
   },
   "file_extension": ".py",
   "mimetype": "text/x-python",
   "name": "python",
   "nbconvert_exporter": "python",
   "pygments_lexer": "ipython3",
   "version": "3.4.3"
  }
 },
 "nbformat": 4,
 "nbformat_minor": 0
}
