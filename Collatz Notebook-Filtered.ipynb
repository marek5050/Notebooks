{
 "cells": [
  {
   "cell_type": "markdown",
   "metadata": {
    "slideshow": {
     "slide_type": "slide"
    }
   },
   "source": [
    "#Collatz Conjecture\n",
    "[Sphere Online Judge](http://www.spoj.com/problems/PROBTNPO/)  \n",
    "\n",
    "    Consider the following algorithm:\n",
    "\n",
    "    1. input n\n",
    "    2. print n\n",
    "    3. if n = 1 then STOP\n",
    "         4. if n is odd then n = 3n + 1\n",
    "         5. else n = n / 2\n",
    "    6. GOTO 2"
   ]
  },
  {
   "cell_type": "markdown",
   "metadata": {},
   "source": [
    "Create a small static cache. "
   ]
  },
  {
   "cell_type": "code",
   "execution_count": 164,
   "metadata": {
    "collapsed": true
   },
   "outputs": [],
   "source": [
    "cache = {1: (100,119),101: (200,125),201: (300,128),301: (400,144),401: (500,142),501: (600,137),601: (700,145)}"
   ]
  },
  {
   "cell_type": "markdown",
   "metadata": {},
   "source": [
    "A function to check the cache."
   ]
  },
  {
   "cell_type": "code",
   "execution_count": 165,
   "metadata": {
    "collapsed": false
   },
   "outputs": [],
   "source": [
    "def check(min, max):\n",
    "    if min in cache:\n",
    "        values = cache[min]\n",
    "        if(values[0] <= max):\n",
    "            return values\n",
    "    return (min,0)"
   ]
  },
  {
   "cell_type": "markdown",
   "metadata": {},
   "source": [
    "Now our evaluation function to run the numbers. "
   ]
  },
  {
   "cell_type": "code",
   "execution_count": 177,
   "metadata": {
    "collapsed": false
   },
   "outputs": [],
   "source": [
    "def collatz_eval (i, j) :\n",
    "    maxCycleLength = 0\n",
    "    minValue = min(i,j)\n",
    "    maxValue = max(i,j)\n",
    "    currentValue = minValue\n",
    "\n",
    "    while (currentValue in range(minValue,maxValue+1)):\n",
    "            if(currentValue % 100 == 1): \n",
    "                res = check(currentValue, maxValue)\n",
    "                print(res)\n",
    "                currentValue = res[0]\n",
    "                if(res[1] > maxCycleLength):\n",
    "                    currentValue += 1\n",
    "                    maxCycleLength = res[1]\n",
    "                    continue\n",
    "\n",
    "            value = currentValue\n",
    "            cycleLength = 1\n",
    "            while value != 1:\n",
    "              if(value % 2 == 0):\n",
    "                        value //= 2\n",
    "              else:\n",
    "                        value = 3*value + 1\n",
    "              cycleLength+=1 \n",
    "                \n",
    "            if cycleLength > maxCycleLength:\n",
    "               maxCycleLength = cycleLength\n",
    "            currentValue+=1\n",
    "\n",
    "    return maxCycleLength"
   ]
  },
  {
   "cell_type": "code",
   "execution_count": 178,
   "metadata": {
    "collapsed": false
   },
   "outputs": [
    {
     "name": "stdout",
     "output_type": "stream",
     "text": [
      "(400, 144)\n",
      "(500, 142)\n",
      "(600, 137)\n",
      "(700, 145)\n",
      "(701, 0)\n",
      "(801, 0)\n",
      "(901, 0)\n",
      "(1001, 0)\n"
     ]
    },
    {
     "data": {
      "text/plain": [
       "179"
      ]
     },
     "execution_count": 178,
     "metadata": {},
     "output_type": "execute_result"
    }
   ],
   "source": [
    "collatz_eval(300,1002)"
   ]
  },
  {
   "cell_type": "markdown",
   "metadata": {},
   "source": [
    "The largest collatz cycle between 300 and 1002 is 179."
   ]
  }
 ],
 "metadata": {
  "kernelspec": {
   "display_name": "Python 3",
   "language": "python",
   "name": "python3"
  },
  "language_info": {
   "codemirror_mode": {
    "name": "ipython",
    "version": 3
   },
   "file_extension": ".py",
   "mimetype": "text/x-python",
   "name": "python",
   "nbconvert_exporter": "python",
   "pygments_lexer": "ipython3",
   "version": "3.4.3"
  }
 },
 "nbformat": 4,
 "nbformat_minor": 0
}
